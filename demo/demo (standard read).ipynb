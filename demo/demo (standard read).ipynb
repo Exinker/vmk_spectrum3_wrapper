{
 "cells": [
  {
   "cell_type": "code",
   "execution_count": null,
   "metadata": {},
   "outputs": [],
   "source": [
    "from vmk_spectrum3_wrapper.data import Data\n",
    "from vmk_spectrum3_wrapper.device import Device\n",
    "from vmk_spectrum3_wrapper.measurement_manager.filters.presets import CorePreset"
   ]
  },
  {
   "cell_type": "code",
   "execution_count": 2,
   "metadata": {},
   "outputs": [],
   "source": [
    "exposure = 10\n",
    "capacity = 1"
   ]
  },
  {
   "cell_type": "code",
   "execution_count": null,
   "metadata": {},
   "outputs": [],
   "source": [
    "device = Device()\n",
    "device = device.connect()"
   ]
  },
  {
   "cell_type": "code",
   "execution_count": null,
   "metadata": {},
   "outputs": [],
   "source": [
    "device = device.setup(\n",
    "    n_times=1,\n",
    "    exposure=exposure,\n",
    "    capacity=capacity,\n",
    ")"
   ]
  },
  {
   "cell_type": "markdown",
   "metadata": {},
   "source": [
    "#### Calibrate `bias`"
   ]
  },
  {
   "cell_type": "code",
   "execution_count": null,
   "metadata": {},
   "outputs": [],
   "source": [
    "import numpy as np\n",
    "\n",
    "from vmk_spectrum3_wrapper.calibration import calibrate_bias\n",
    "\n",
    "\n",
    "bias = calibrate_bias(\n",
    "    device=device,\n",
    "    exposure=np.arange(1, 10+1, 1),\n",
    "    capacity=100,\n",
    "    show=True,\n",
    "    save=True,\n",
    ")"
   ]
  },
  {
   "cell_type": "markdown",
   "metadata": {},
   "source": [
    "#### Calibrate `dark`"
   ]
  },
  {
   "cell_type": "code",
   "execution_count": null,
   "metadata": {},
   "outputs": [],
   "source": [
    "from vmk_spectrum3_wrapper.calibration import calibrate_dark\n",
    "\n",
    "\n",
    "dark = calibrate_dark(\n",
    "    device=device,\n",
    "    exposure=exposure,\n",
    "    capacity=100,\n",
    "    bias=Data.load('bias.pkl'),\n",
    "    show=True,\n",
    "    save=True,\n",
    ")"
   ]
  },
  {
   "cell_type": "markdown",
   "metadata": {},
   "source": [
    "#### Read"
   ]
  },
  {
   "cell_type": "code",
   "execution_count": 7,
   "metadata": {},
   "outputs": [],
   "source": [
    "n_times = 10\n",
    "device = device.setup(\n",
    "    n_times=n_times,\n",
    "    exposure=exposure,\n",
    "    capacity=capacity,\n",
    "    filter=CorePreset(\n",
    "        bias=Data.load('bias.pkl'),\n",
    "        dark=Data.load('dark.pkl'),\n",
    "    ),\n",
    ")"
   ]
  },
  {
   "cell_type": "code",
   "execution_count": null,
   "metadata": {},
   "outputs": [],
   "source": [
    "data = device.read()\n",
    "data.show()"
   ]
  },
  {
   "cell_type": "code",
   "execution_count": null,
   "metadata": {},
   "outputs": [],
   "source": []
  }
 ],
 "metadata": {
  "kernelspec": {
   "display_name": ".venv",
   "language": "python",
   "name": "python3"
  },
  "language_info": {
   "codemirror_mode": {
    "name": "ipython",
    "version": 3
   },
   "file_extension": ".py",
   "mimetype": "text/x-python",
   "name": "python",
   "nbconvert_exporter": "python",
   "pygments_lexer": "ipython3",
   "version": "3.10.16"
  }
 },
 "nbformat": 4,
 "nbformat_minor": 4
}
